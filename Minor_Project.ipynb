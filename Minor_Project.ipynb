{
  "nbformat": 4,
  "nbformat_minor": 0,
  "metadata": {
    "colab": {
      "name": "Minor Project",
      "provenance": [],
      "collapsed_sections": [],
      "mount_file_id": "1yS-SYu4n27lVuZ2fMOHyuiyt2j3K2xSg",
      "authorship_tag": "ABX9TyOp5xRtVaf43wyBZ647Faue",
      "include_colab_link": true
    },
    "kernelspec": {
      "name": "python3",
      "display_name": "Python 3"
    }
  },
  "cells": [
    {
      "cell_type": "markdown",
      "metadata": {
        "id": "view-in-github",
        "colab_type": "text"
      },
      "source": [
        "<a href=\"https://colab.research.google.com/github/Ekta3006/aboutcode/blob/master/Minor_Project.ipynb\" target=\"_parent\"><img src=\"https://colab.research.google.com/assets/colab-badge.svg\" alt=\"Open In Colab\"/></a>"
      ]
    },
    {
      "cell_type": "markdown",
      "metadata": {
        "id": "7xX41OuQmrrg"
      },
      "source": [
        "Loading Libraries"
      ]
    },
    {
      "cell_type": "code",
      "metadata": {
        "id": "sfBoMQpnleqg"
      },
      "source": [
        "import numpy as np\n",
        "import cv2\n",
        "import matplotlib.pyplot as plt\n",
        "%matplotlib inline"
      ],
      "execution_count": null,
      "outputs": []
    },
    {
      "cell_type": "markdown",
      "metadata": {
        "id": "DRWp9cqz7s4t"
      },
      "source": [
        "Defining a function to detect face and mouth"
      ]
    },
    {
      "cell_type": "code",
      "metadata": {
        "id": "bnDT2lV2clO-"
      },
      "source": [
        "def detect_faces(cascade,test_image, scaleFactor = 1.1):\n",
        "  image_copy = test_image.copy()\n",
        "  face_cascade = cv2.CascadeClassifier('haarcascade_frontalface_default.xml')\n",
        "  mouthCascade = cv2.CascadeClassifier(cascPath)\n",
        "  gray_image = cv2.cvtColor(image_copy, cv2.COLOR_BGR2GRAY)\n",
        "  faces_rect = cascade.detectMultiScale(gray_image, scaleFactor=scaleFactor, minNeighbors=5)\n",
        "\n",
        "  for (x, y, w, h) in faces_rect:\n",
        "        cv2.rectangle(image_copy, (x, y), (x+w, y+h), (0, 255, 0), 15)\n",
        "  mouth = mouthCascade.detectMultiScale(gray_image)\n",
        "  return image_copy\n",
        "  mask, nomask = model.predict(face_input).squeeze()\n",
        "\n",
        "  if mask > nomask:\n",
        "   color = (0, 255, 0)\n",
        "   label = 'Mask %d%%' % (mask * 100)\n",
        "  else:\n",
        "   color = (0, 0, 255)\n",
        "   label = 'No Mask %d%%' % (nomask * 100)"
      ],
      "execution_count": null,
      "outputs": []
    },
    {
      "cell_type": "code",
      "metadata": {
        "id": "WsWFGLsNhq7j"
      },
      "source": [
        ""
      ],
      "execution_count": null,
      "outputs": []
    }
  ]
}